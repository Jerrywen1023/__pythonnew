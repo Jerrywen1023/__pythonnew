{
 "cells": [
  {
   "cell_type": "code",
   "execution_count": 4,
   "metadata": {},
   "outputs": [
    {
     "name": "stdout",
     "output_type": "stream",
     "text": [
      "hello! python!\n"
     ]
    }
   ],
   "source": [
    "print(\"hello! python!\")"
   ]
  },
  {
   "cell_type": "code",
   "execution_count": 1,
   "metadata": {},
   "outputs": [],
   "source": [
    "n = 10\n",
    "m = 5.0\n",
    "name = '温明潔'\n",
    "is_google = True"
   ]
  },
  {
   "cell_type": "code",
   "execution_count": 3,
   "metadata": {},
   "outputs": [
    {
     "ename": "NameError",
     "evalue": "name 'n' is not defined",
     "output_type": "error",
     "traceback": [
      "\u001b[0;31m---------------------------------------------------------------------------\u001b[0m",
      "\u001b[0;31mNameError\u001b[0m                                 Traceback (most recent call last)",
      "Cell \u001b[0;32mIn[3], line 1\u001b[0m\n\u001b[0;32m----> 1\u001b[0m \u001b[38;5;28mprint\u001b[39m(\u001b[43mn\u001b[49m)\n\u001b[1;32m      3\u001b[0m \u001b[38;5;28mprint\u001b[39m()\n",
      "\u001b[0;31mNameError\u001b[0m: name 'n' is not defined"
     ]
    }
   ],
   "source": [
    "print(n)\n",
    "\n",
    "print()"
   ]
  },
  {
   "cell_type": "code",
   "execution_count": 2,
   "metadata": {},
   "outputs": [
    {
     "name": "stdout",
     "output_type": "stream",
     "text": [
      "10\n",
      "5.0\n",
      "温明潔\n",
      "True\n"
     ]
    }
   ],
   "source": [
    "print(n)\n",
    "print(m)\n",
    "print(name)\n",
    "print(is_google)"
   ]
  },
  {
   "cell_type": "code",
   "execution_count": 13,
   "metadata": {},
   "outputs": [
    {
     "name": "stdout",
     "output_type": "stream",
     "text": [
      "<class 'tuple'>\n",
      "温明潔\n",
      "45\n",
      "56\n",
      "100\n"
     ]
    }
   ],
   "source": [
    "t1 = (1, 2, 3, 4, 5)\n",
    "t1\n",
    "print(type(t1))\n",
    "\n",
    "t2 = ('a','b','c')\n",
    "t2\n",
    "\n",
    "type(t2)\n",
    "\n",
    "name,chinese,math,english = \"温明潔\",45,56,100\n",
    "print(name)\n",
    "print(chinese)\n",
    "print(math)\n",
    "print(english)\n",
    "\n",
    "\n",
    "\n",
    "\n",
    "\n"
   ]
  },
  {
   "cell_type": "code",
   "execution_count": 14,
   "metadata": {},
   "outputs": [
    {
     "name": "stdout",
     "output_type": "stream",
     "text": [
      "温明潔\n",
      "45\n",
      "56\n",
      "100\n"
     ]
    }
   ],
   "source": [
    "name,chinese,math,english = \"温明潔\",45,56,100\n",
    "print(name)\n",
    "print(chinese)\n",
    "print(math)\n",
    "print(english)"
   ]
  },
  {
   "cell_type": "code",
   "execution_count": 15,
   "metadata": {},
   "outputs": [
    {
     "data": {
      "text/plain": [
       "[1, 2, 3, 4]"
      ]
     },
     "execution_count": 15,
     "metadata": {},
     "output_type": "execute_result"
    }
   ],
   "source": [
    "mylist = [1, 2,3, 4]\n",
    "mylist"
   ]
  },
  {
   "cell_type": "code",
   "execution_count": 16,
   "metadata": {},
   "outputs": [
    {
     "name": "stdout",
     "output_type": "stream",
     "text": [
      "<class 'list'>\n"
     ]
    }
   ],
   "source": [
    "print(type(mylist))\n"
   ]
  },
  {
   "cell_type": "code",
   "execution_count": 19,
   "metadata": {},
   "outputs": [
    {
     "name": "stdout",
     "output_type": "stream",
     "text": [
      "('温明潔', 45, 56, 100)\n"
     ]
    }
   ],
   "source": [
    "student1 = \"温明潔\",45,56,100\n",
    "print (student1)\n"
   ]
  },
  {
   "cell_type": "code",
   "execution_count": 21,
   "metadata": {},
   "outputs": [
    {
     "name": "stdout",
     "output_type": "stream",
     "text": [
      "温明潔\n",
      "45\n",
      "56\n",
      "100\n"
     ]
    }
   ],
   "source": [
    "print(student1[0])\n",
    "print(student1[1])\n",
    "print(student1[2])\n",
    "print(student1[3])\n"
   ]
  },
  {
   "cell_type": "code",
   "execution_count": 23,
   "metadata": {},
   "outputs": [
    {
     "name": "stdout",
     "output_type": "stream",
     "text": [
      "温明潔\n",
      "45\n",
      "56\n",
      "100\n"
     ]
    }
   ],
   "source": [
    "for element in student1:\n",
    "    print(element)\n"
   ]
  },
  {
   "cell_type": "code",
   "execution_count": 31,
   "metadata": {},
   "outputs": [
    {
     "name": "stdout",
     "output_type": "stream",
     "text": [
      "h\n",
      "e\n",
      "l\n",
      "l\n",
      "o\n",
      "!\n",
      "!\n",
      "!\n",
      "p\n",
      "y\n",
      "t\n",
      "h\n",
      "o\n",
      "n\n"
     ]
    }
   ],
   "source": [
    "greeting = \"hello!!!python\"\n",
    "for e in greeting:\n",
    "    print(e)\n"
   ]
  },
  {
   "cell_type": "code",
   "execution_count": 46,
   "metadata": {},
   "outputs": [
    {
     "data": {
      "text/plain": [
       "{'name': '温明潔', '中文': 45, 'english': 56, 'math': 100}"
      ]
     },
     "execution_count": 46,
     "metadata": {},
     "output_type": "execute_result"
    }
   ],
   "source": [
    "student1 = {\"name\":\"温明潔\",\n",
    "            \"中文\":45,\n",
    "            \"english\":56,\n",
    "            \"math\":100}\n",
    "student1\n",
    "        "
   ]
  },
  {
   "cell_type": "code",
   "execution_count": 35,
   "metadata": {},
   "outputs": [
    {
     "name": "stdout",
     "output_type": "stream",
     "text": [
      "温明潔\n",
      "45\n",
      "56\n",
      "100\n"
     ]
    }
   ],
   "source": [
    "for k in student1:\n",
    "    print(k) "
   ]
  },
  {
   "cell_type": "code",
   "execution_count": 47,
   "metadata": {},
   "outputs": [],
   "source": [
    "students = [{'name': '温明潔', '中文': 45, 'english': 56, 'math': 100},\n",
    "            {'name': '周泰霖', '中文': 5, 'english': 6, 'math': 0},\n",
    "            {'name': '周太零', '中文': 0, 'english': 0, 'math': 0}]"
   ]
  },
  {
   "cell_type": "code",
   "execution_count": 49,
   "metadata": {},
   "outputs": [
    {
     "name": "stdout",
     "output_type": "stream",
     "text": [
      "{'name': '温明潔', '中文': 45, 'english': 56, 'math': 100}\n",
      "{'name': '周泰霖', '中文': 5, 'english': 6, 'math': 0}\n",
      "{'name': '周太零', '中文': 0, 'english': 0, 'math': 0}\n"
     ]
    }
   ],
   "source": [
    "for student in students:\n",
    "    print(student)"
   ]
  },
  {
   "cell_type": "code",
   "execution_count": 50,
   "metadata": {},
   "outputs": [
    {
     "name": "stdout",
     "output_type": "stream",
     "text": [
      "温明潔\n",
      "45\n",
      "56\n",
      "100\n",
      "==========\n",
      "周泰霖\n",
      "5\n",
      "6\n",
      "0\n",
      "==========\n",
      "周太零\n",
      "0\n",
      "0\n",
      "0\n",
      "==========\n"
     ]
    }
   ],
   "source": [
    "for student in students:\n",
    "    for key in student:\n",
    "        print(student[key])\n",
    "    print(\"==========\")"
   ]
  }
 ],
 "metadata": {
  "kernelspec": {
   "display_name": "Python 3",
   "language": "python",
   "name": "python3"
  },
  "language_info": {
   "codemirror_mode": {
    "name": "ipython",
    "version": 3
   },
   "file_extension": ".py",
   "mimetype": "text/x-python",
   "name": "python",
   "nbconvert_exporter": "python",
   "pygments_lexer": "ipython3",
   "version": "3.10.13"
  }
 },
 "nbformat": 4,
 "nbformat_minor": 2
}
